{
 "cells": [
  {
   "cell_type": "code",
   "execution_count": 1,
   "metadata": {},
   "outputs": [
    {
     "name": "stdout",
     "output_type": "stream",
     "text": [
      "Requirement already satisfied: pyXSteam in c:\\users\\user\\anaconda3\\lib\\site-packages (0.4.2)\n",
      "Note: you may need to restart the kernel to use updated packages.\n"
     ]
    }
   ],
   "source": [
    "pip install pyXSteam\n"
   ]
  },
  {
   "cell_type": "code",
   "execution_count": 2,
   "metadata": {},
   "outputs": [
    {
     "name": "stdout",
     "output_type": "stream",
     "text": [
      "Requirement already satisfied: thermopy in c:\\users\\user\\anaconda3\\lib\\site-packages (0.5.4)\n",
      "Requirement already satisfied: scipy>=0.6.0 in c:\\users\\user\\anaconda3\\lib\\site-packages (from thermopy) (1.4.1)\n",
      "Requirement already satisfied: numpy>=1.2.1 in c:\\users\\user\\anaconda3\\lib\\site-packages (from thermopy) (1.16.5)\n",
      "Note: you may need to restart the kernel to use updated packages.\n"
     ]
    }
   ],
   "source": [
    "pip install thermopy"
   ]
  },
  {
   "cell_type": "code",
   "execution_count": 18,
   "metadata": {},
   "outputs": [
    {
     "name": "stdout",
     "output_type": "stream",
     "text": [
      "Collecting thermochem\n",
      "  Downloading https://files.pythonhosted.org/packages/22/01/d61c5ac5640e740e34ac4472639740ab860d4502d5b09b20c4024208e376/thermochem-0.7.4-py2.py3-none-any.whl (419kB)\n",
      "Requirement already satisfied: scipy>=0.6.0 in c:\\users\\user\\anaconda3\\lib\\site-packages (from thermochem) (1.4.1)\n",
      "Requirement already satisfied: numpy>=1.2.1 in c:\\users\\user\\anaconda3\\lib\\site-packages (from thermochem) (1.16.5)\n",
      "Requirement already satisfied: pandas>=0.17.0 in c:\\users\\user\\anaconda3\\lib\\site-packages (from thermochem) (0.25.1)\n",
      "Requirement already satisfied: python-dateutil>=2.6.1 in c:\\users\\user\\anaconda3\\lib\\site-packages (from pandas>=0.17.0->thermochem) (2.8.0)\n",
      "Requirement already satisfied: pytz>=2017.2 in c:\\users\\user\\anaconda3\\lib\\site-packages (from pandas>=0.17.0->thermochem) (2019.3)\n",
      "Requirement already satisfied: six>=1.5 in c:\\users\\user\\anaconda3\\lib\\site-packages (from python-dateutil>=2.6.1->pandas>=0.17.0->thermochem) (1.12.0)\n",
      "Installing collected packages: thermochem\n",
      "Successfully installed thermochem-0.7.4\n",
      "Note: you may need to restart the kernel to use updated packages.\n"
     ]
    }
   ],
   "source": [
    "pip install thermochem "
   ]
  },
  {
   "cell_type": "code",
   "execution_count": 77,
   "metadata": {},
   "outputs": [],
   "source": [
    "from pyXSteam.XSteam import XSteam\n",
    "from thermochem import burcat \n",
    "from thermochem import psicrometry"
   ]
  },
  {
   "cell_type": "code",
   "execution_count": 4,
   "metadata": {},
   "outputs": [],
   "source": [
    "steamTable = XSteam(XSteam.UNIT_SYSTEM_MKS)"
   ]
  },
  {
   "cell_type": "code",
   "execution_count": 5,
   "metadata": {},
   "outputs": [
    {
     "name": "stdout",
     "output_type": "stream",
     "text": [
      "245.0210046634702\n"
     ]
    }
   ],
   "source": [
    "print(steamTable.h_ps(8,6.66)-steamTable.h_ps(2,6.66))"
   ]
  },
  {
   "cell_type": "code",
   "execution_count": 23,
   "metadata": {},
   "outputs": [],
   "source": [
    "db = thermochem.burcat.Elementdb()"
   ]
  },
  {
   "cell_type": "code",
   "execution_count": 75,
   "metadata": {
    "scrolled": true
   },
   "outputs": [
    {
     "data": {
      "text/plain": [
       "['SO2', 'SO2CLF', 'SO2CL2', 'SO2F2']"
      ]
     },
     "execution_count": 75,
     "metadata": {},
     "output_type": "execute_result"
    }
   ],
   "source": [
    "db.search(\"SO2\")"
   ]
  },
  {
   "cell_type": "code",
   "execution_count": 76,
   "metadata": {},
   "outputs": [],
   "source": [
    "oxygen = db.getelementdata(\"O2 REF ELEMENT\")\n",
    "azote = db.getelementdata(\"N2  REF ELEMENT\")\n",
    "hydrogen = db.getelementdata(\"H2  REF ELEMENT\")\n",
    "COTWO = db.getelementdata(\"CO2\")\n",
    "water = db.getelementdata(\"H2O\")\n",
    "CO = db.getelementdata(\"CO\")\n",
    "STWO = db.getelementdata(\"S2\")\n",
    "SOTWO = db.getelementdata(\"SO2\")"
   ]
  },
  {
   "cell_type": "code",
   "execution_count": null,
   "metadata": {},
   "outputs": [],
   "source": [
    "combustible = db.getelementdata()"
   ]
  },
  {
   "cell_type": "code",
   "execution_count": 71,
   "metadata": {
    "scrolled": true
   },
   "outputs": [
    {
     "name": "stdout",
     "output_type": "stream",
     "text": [
      "12310.663723536345\n"
     ]
    }
   ],
   "source": [
    "deltah(element, 700)"
   ]
  },
  {
   "cell_type": "code",
   "execution_count": 69,
   "metadata": {},
   "outputs": [],
   "source": [
    "def deltah(element, temperature):\n",
    "    print (element.ho(temperature)-element.ho(298.15))\n",
    "    "
   ]
  },
  {
   "cell_type": "code",
   "execution_count": null,
   "metadata": {},
   "outputs": [],
   "source": []
  }
 ],
 "metadata": {
  "kernelspec": {
   "display_name": "Python 3",
   "language": "python",
   "name": "python3"
  },
  "language_info": {
   "codemirror_mode": {
    "name": "ipython",
    "version": 3
   },
   "file_extension": ".py",
   "mimetype": "text/x-python",
   "name": "python",
   "nbconvert_exporter": "python",
   "pygments_lexer": "ipython3",
   "version": "3.7.4"
  }
 },
 "nbformat": 4,
 "nbformat_minor": 2
}
